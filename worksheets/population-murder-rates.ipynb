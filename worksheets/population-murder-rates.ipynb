{
 "cells": [
  {
   "cell_type": "markdown",
   "metadata": {},
   "source": [
    "murder rates (in units of murders per 100,000 people per year) per state."
   ]
  },
  {
   "cell_type": "markdown",
   "metadata": {},
   "source": [
    "## Find Mean of Population"
   ]
  },
  {
   "cell_type": "code",
   "execution_count": 11,
   "metadata": {},
   "outputs": [
    {
     "name": "stdout",
     "output_type": "stream",
     "text": [
      "6162876.3\n"
     ]
    }
   ],
   "source": [
    "import pandas as pd\n",
    "\n",
    "state_df = pd.read_csv(\"../data/state.csv\")\n",
    "\n",
    "print(state_df[\"Population\"].mean())"
   ]
  },
  {
   "cell_type": "markdown",
   "metadata": {},
   "source": [
    "## Find Trimmed Mean of Population"
   ]
  },
  {
   "cell_type": "code",
   "execution_count": 4,
   "metadata": {},
   "outputs": [
    {
     "name": "stdout",
     "output_type": "stream",
     "text": [
      "4783697.125\n"
     ]
    }
   ],
   "source": [
    "from scipy.stats import trim_mean\n",
    "\n",
    "print(trim_mean(state_df[\"Population\"], proportiontocut=0.1))"
   ]
  },
  {
   "cell_type": "markdown",
   "metadata": {},
   "source": [
    "## Find Median of Population"
   ]
  },
  {
   "cell_type": "code",
   "execution_count": 5,
   "metadata": {},
   "outputs": [
    {
     "name": "stdout",
     "output_type": "stream",
     "text": [
      "4436369.5\n"
     ]
    }
   ],
   "source": [
    "print(state_df[\"Population\"].median())"
   ]
  },
  {
   "cell_type": "markdown",
   "metadata": {},
   "source": [
    "The mean is bigger than the trimmed mean, and the trimmed mean is bigger than the median. This is due to the robustness of the trimmed mean and the median vs the mean.\n",
    "\n",
    "If we want to compute the average murder rate for the country, we need to use a weighted mean or weighted median because of the differing population of each of the states."
   ]
  },
  {
   "cell_type": "markdown",
   "metadata": {},
   "source": [
    "## Find Weighted Mean of Murder Rates"
   ]
  },
  {
   "cell_type": "code",
   "execution_count": 7,
   "metadata": {},
   "outputs": [
    {
     "name": "stdout",
     "output_type": "stream",
     "text": [
      "4.445833981123393\n"
     ]
    }
   ],
   "source": [
    "import numpy as np\n",
    "\n",
    "data = state_df[\"Murder.Rate\"].values\n",
    "\n",
    "weights = state_df[\"Population\"].values\n",
    "\n",
    "print(np.average(data, weights=weights))"
   ]
  },
  {
   "cell_type": "markdown",
   "metadata": {},
   "source": [
    "## Find Weighted Median of Murder Rates"
   ]
  },
  {
   "cell_type": "code",
   "execution_count": 9,
   "metadata": {},
   "outputs": [
    {
     "name": "stdout",
     "output_type": "stream",
     "text": [
      "4.4\n"
     ]
    }
   ],
   "source": [
    "import wquantiles\n",
    "print(wquantiles.median(data, weights))"
   ]
  },
  {
   "cell_type": "markdown",
   "metadata": {},
   "source": [
    "In this case weighte mean & weighted median are about the same."
   ]
  }
 ],
 "metadata": {
  "kernelspec": {
   "display_name": "Python 3",
   "language": "python",
   "name": "python3"
  },
  "language_info": {
   "codemirror_mode": {
    "name": "ipython",
    "version": 3
   },
   "file_extension": ".py",
   "mimetype": "text/x-python",
   "name": "python",
   "nbconvert_exporter": "python",
   "pygments_lexer": "ipython3",
   "version": "3.10.12"
  }
 },
 "nbformat": 4,
 "nbformat_minor": 2
}
